{
 "cells": [
  {
   "cell_type": "code",
   "execution_count": 1,
   "metadata": {},
   "outputs": [
    {
     "name": "stderr",
     "output_type": "stream",
     "text": [
      "Using TensorFlow backend.\n"
     ]
    }
   ],
   "source": [
    "import warnings\n",
    "warnings.filterwarnings(\"ignore\")\n",
    "import tensorflow as tf\n",
    "tf.logging.set_verbosity(tf.logging.ERROR)\n",
    "import itertools\n",
    "from sklearn.preprocessing import MinMaxScaler\n",
    "from sklearn.metrics import confusion_matrix,accuracy_score,recall_score,precision_score,f1_score\n",
    "import matplotlib.pyplot as plt\n",
    "import numpy as np\n",
    "import pandas as pd\n",
    "from keras.layers import Input,Dropout,Dense\n",
    "from keras.models import Model\n",
    "from keras import regularizers\n",
    "from keras.utils.data_utils import get_file\n",
    "from sklearn.model_selection import train_test_split\n",
    "from numpy.random import seed\n",
    "%matplotlib inline"
   ]
  },
  {
   "cell_type": "code",
   "execution_count": 2,
   "metadata": {},
   "outputs": [],
   "source": [
    "col_names=[\"id\",\"dur\",\"proto\",\"service\",\"state\",\n",
    "           \"spkts\",\"dpkts\",\"sbytes\",\"dbytes\",\"rate\",\n",
    "           \"sttl\",\"dttl\",\"sload\",\"dload\",\"sloss\",\n",
    "           \"dloss\",\"sinpkt\",\"dinpkt\",\"sjit\",\"djit\",\n",
    "           \"swin\",\"stcpb\",\"dtcpb\",\"dwin\",\"tcprtt\",\n",
    "           \"synack\",\"ackdat\",\"smean\",\"dmean\",\"trans_depth\",\n",
    "           \"response_body_len\",\"ct_srv_src\",\"ct_state_ttl\",\"ct_dst_ltm\",\"ct_src_dport_ltm\",\n",
    "           \"ct_dst_sport_ltm\",\"ct_dst_src_ltm\",\"is_ftp_login\",\"ct_ftp_cmd\",\"ct_flw_http_mthd\",\n",
    "           \"ct_src_ltm\",\"ct_srv_dst\",\"is_sm_ips_ports\",\"attack_cat\",\"label\"\n",
    "]\n",
    "\n",
    "training_df = pd.read_csv(\"UNSW_NB15_training-set.csv\",header=None,names=col_names)\n",
    "testing_df = pd.read_csv(\"UNSW_NB15_testing-set.csv\",header=None,names=col_names)\n"
   ]
  },
  {
   "cell_type": "code",
   "execution_count": 3,
   "metadata": {},
   "outputs": [
    {
     "data": {
      "text/html": [
       "<div>\n",
       "<style scoped>\n",
       "    .dataframe tbody tr th:only-of-type {\n",
       "        vertical-align: middle;\n",
       "    }\n",
       "\n",
       "    .dataframe tbody tr th {\n",
       "        vertical-align: top;\n",
       "    }\n",
       "\n",
       "    .dataframe thead th {\n",
       "        text-align: right;\n",
       "    }\n",
       "</style>\n",
       "<table border=\"1\" class=\"dataframe\">\n",
       "  <thead>\n",
       "    <tr style=\"text-align: right;\">\n",
       "      <th></th>\n",
       "      <th>dur</th>\n",
       "      <th>proto</th>\n",
       "      <th>service</th>\n",
       "      <th>state</th>\n",
       "      <th>spkts</th>\n",
       "      <th>dpkts</th>\n",
       "      <th>sbytes</th>\n",
       "      <th>dbytes</th>\n",
       "      <th>rate</th>\n",
       "      <th>sttl</th>\n",
       "      <th>...</th>\n",
       "      <th>ct_dst_sport_ltm</th>\n",
       "      <th>ct_dst_src_ltm</th>\n",
       "      <th>is_ftp_login</th>\n",
       "      <th>ct_ftp_cmd</th>\n",
       "      <th>ct_flw_http_mthd</th>\n",
       "      <th>ct_src_ltm</th>\n",
       "      <th>ct_srv_dst</th>\n",
       "      <th>is_sm_ips_ports</th>\n",
       "      <th>attack_cat</th>\n",
       "      <th>label</th>\n",
       "    </tr>\n",
       "  </thead>\n",
       "  <tbody>\n",
       "    <tr>\n",
       "      <td>0</td>\n",
       "      <td>0.000011</td>\n",
       "      <td>udp</td>\n",
       "      <td>-</td>\n",
       "      <td>INT</td>\n",
       "      <td>2</td>\n",
       "      <td>0</td>\n",
       "      <td>496</td>\n",
       "      <td>0</td>\n",
       "      <td>90909.0902</td>\n",
       "      <td>254</td>\n",
       "      <td>...</td>\n",
       "      <td>1</td>\n",
       "      <td>2</td>\n",
       "      <td>0</td>\n",
       "      <td>0</td>\n",
       "      <td>0</td>\n",
       "      <td>1</td>\n",
       "      <td>2</td>\n",
       "      <td>0</td>\n",
       "      <td>Normal</td>\n",
       "      <td>0</td>\n",
       "    </tr>\n",
       "    <tr>\n",
       "      <td>1</td>\n",
       "      <td>0.000008</td>\n",
       "      <td>udp</td>\n",
       "      <td>-</td>\n",
       "      <td>INT</td>\n",
       "      <td>2</td>\n",
       "      <td>0</td>\n",
       "      <td>1762</td>\n",
       "      <td>0</td>\n",
       "      <td>125000.0003</td>\n",
       "      <td>254</td>\n",
       "      <td>...</td>\n",
       "      <td>1</td>\n",
       "      <td>2</td>\n",
       "      <td>0</td>\n",
       "      <td>0</td>\n",
       "      <td>0</td>\n",
       "      <td>1</td>\n",
       "      <td>2</td>\n",
       "      <td>0</td>\n",
       "      <td>Normal</td>\n",
       "      <td>0</td>\n",
       "    </tr>\n",
       "    <tr>\n",
       "      <td>2</td>\n",
       "      <td>0.000005</td>\n",
       "      <td>udp</td>\n",
       "      <td>-</td>\n",
       "      <td>INT</td>\n",
       "      <td>2</td>\n",
       "      <td>0</td>\n",
       "      <td>1068</td>\n",
       "      <td>0</td>\n",
       "      <td>200000.0051</td>\n",
       "      <td>254</td>\n",
       "      <td>...</td>\n",
       "      <td>1</td>\n",
       "      <td>3</td>\n",
       "      <td>0</td>\n",
       "      <td>0</td>\n",
       "      <td>0</td>\n",
       "      <td>1</td>\n",
       "      <td>3</td>\n",
       "      <td>0</td>\n",
       "      <td>Normal</td>\n",
       "      <td>0</td>\n",
       "    </tr>\n",
       "    <tr>\n",
       "      <td>3</td>\n",
       "      <td>0.000006</td>\n",
       "      <td>udp</td>\n",
       "      <td>-</td>\n",
       "      <td>INT</td>\n",
       "      <td>2</td>\n",
       "      <td>0</td>\n",
       "      <td>900</td>\n",
       "      <td>0</td>\n",
       "      <td>166666.6608</td>\n",
       "      <td>254</td>\n",
       "      <td>...</td>\n",
       "      <td>1</td>\n",
       "      <td>3</td>\n",
       "      <td>0</td>\n",
       "      <td>0</td>\n",
       "      <td>0</td>\n",
       "      <td>2</td>\n",
       "      <td>3</td>\n",
       "      <td>0</td>\n",
       "      <td>Normal</td>\n",
       "      <td>0</td>\n",
       "    </tr>\n",
       "    <tr>\n",
       "      <td>4</td>\n",
       "      <td>0.000010</td>\n",
       "      <td>udp</td>\n",
       "      <td>-</td>\n",
       "      <td>INT</td>\n",
       "      <td>2</td>\n",
       "      <td>0</td>\n",
       "      <td>2126</td>\n",
       "      <td>0</td>\n",
       "      <td>100000.0025</td>\n",
       "      <td>254</td>\n",
       "      <td>...</td>\n",
       "      <td>1</td>\n",
       "      <td>3</td>\n",
       "      <td>0</td>\n",
       "      <td>0</td>\n",
       "      <td>0</td>\n",
       "      <td>2</td>\n",
       "      <td>3</td>\n",
       "      <td>0</td>\n",
       "      <td>Normal</td>\n",
       "      <td>0</td>\n",
       "    </tr>\n",
       "  </tbody>\n",
       "</table>\n",
       "<p>5 rows × 44 columns</p>\n",
       "</div>"
      ],
      "text/plain": [
       "        dur proto service state  spkts  dpkts  sbytes  dbytes         rate  \\\n",
       "0  0.000011   udp       -   INT      2      0     496       0   90909.0902   \n",
       "1  0.000008   udp       -   INT      2      0    1762       0  125000.0003   \n",
       "2  0.000005   udp       -   INT      2      0    1068       0  200000.0051   \n",
       "3  0.000006   udp       -   INT      2      0     900       0  166666.6608   \n",
       "4  0.000010   udp       -   INT      2      0    2126       0  100000.0025   \n",
       "\n",
       "   sttl  ...  ct_dst_sport_ltm  ct_dst_src_ltm  is_ftp_login  ct_ftp_cmd  \\\n",
       "0   254  ...                 1               2             0           0   \n",
       "1   254  ...                 1               2             0           0   \n",
       "2   254  ...                 1               3             0           0   \n",
       "3   254  ...                 1               3             0           0   \n",
       "4   254  ...                 1               3             0           0   \n",
       "\n",
       "   ct_flw_http_mthd  ct_src_ltm  ct_srv_dst  is_sm_ips_ports  attack_cat  \\\n",
       "0                 0           1           2                0      Normal   \n",
       "1                 0           1           2                0      Normal   \n",
       "2                 0           1           3                0      Normal   \n",
       "3                 0           2           3                0      Normal   \n",
       "4                 0           2           3                0      Normal   \n",
       "\n",
       "   label  \n",
       "0      0  \n",
       "1      0  \n",
       "2      0  \n",
       "3      0  \n",
       "4      0  \n",
       "\n",
       "[5 rows x 44 columns]"
      ]
     },
     "execution_count": 3,
     "metadata": {},
     "output_type": "execute_result"
    }
   ],
   "source": [
    "del training_df['id']\n",
    "training_df.head()"
   ]
  },
  {
   "cell_type": "code",
   "execution_count": 4,
   "metadata": {},
   "outputs": [
    {
     "data": {
      "text/html": [
       "<div>\n",
       "<style scoped>\n",
       "    .dataframe tbody tr th:only-of-type {\n",
       "        vertical-align: middle;\n",
       "    }\n",
       "\n",
       "    .dataframe tbody tr th {\n",
       "        vertical-align: top;\n",
       "    }\n",
       "\n",
       "    .dataframe thead th {\n",
       "        text-align: right;\n",
       "    }\n",
       "</style>\n",
       "<table border=\"1\" class=\"dataframe\">\n",
       "  <thead>\n",
       "    <tr style=\"text-align: right;\">\n",
       "      <th></th>\n",
       "      <th>dur</th>\n",
       "      <th>proto</th>\n",
       "      <th>service</th>\n",
       "      <th>state</th>\n",
       "      <th>spkts</th>\n",
       "      <th>dpkts</th>\n",
       "      <th>sbytes</th>\n",
       "      <th>dbytes</th>\n",
       "      <th>rate</th>\n",
       "      <th>sttl</th>\n",
       "      <th>...</th>\n",
       "      <th>ct_dst_sport_ltm</th>\n",
       "      <th>ct_dst_src_ltm</th>\n",
       "      <th>is_ftp_login</th>\n",
       "      <th>ct_ftp_cmd</th>\n",
       "      <th>ct_flw_http_mthd</th>\n",
       "      <th>ct_src_ltm</th>\n",
       "      <th>ct_srv_dst</th>\n",
       "      <th>is_sm_ips_ports</th>\n",
       "      <th>attack_cat</th>\n",
       "      <th>label</th>\n",
       "    </tr>\n",
       "  </thead>\n",
       "  <tbody>\n",
       "    <tr>\n",
       "      <td>0</td>\n",
       "      <td>0.121478</td>\n",
       "      <td>tcp</td>\n",
       "      <td>-</td>\n",
       "      <td>FIN</td>\n",
       "      <td>6</td>\n",
       "      <td>4</td>\n",
       "      <td>258</td>\n",
       "      <td>172</td>\n",
       "      <td>74.087490</td>\n",
       "      <td>252</td>\n",
       "      <td>...</td>\n",
       "      <td>1</td>\n",
       "      <td>1</td>\n",
       "      <td>0</td>\n",
       "      <td>0</td>\n",
       "      <td>0</td>\n",
       "      <td>1</td>\n",
       "      <td>1</td>\n",
       "      <td>0</td>\n",
       "      <td>Normal</td>\n",
       "      <td>0</td>\n",
       "    </tr>\n",
       "    <tr>\n",
       "      <td>1</td>\n",
       "      <td>0.649902</td>\n",
       "      <td>tcp</td>\n",
       "      <td>-</td>\n",
       "      <td>FIN</td>\n",
       "      <td>14</td>\n",
       "      <td>38</td>\n",
       "      <td>734</td>\n",
       "      <td>42014</td>\n",
       "      <td>78.473372</td>\n",
       "      <td>62</td>\n",
       "      <td>...</td>\n",
       "      <td>1</td>\n",
       "      <td>2</td>\n",
       "      <td>0</td>\n",
       "      <td>0</td>\n",
       "      <td>0</td>\n",
       "      <td>1</td>\n",
       "      <td>6</td>\n",
       "      <td>0</td>\n",
       "      <td>Normal</td>\n",
       "      <td>0</td>\n",
       "    </tr>\n",
       "    <tr>\n",
       "      <td>2</td>\n",
       "      <td>1.623129</td>\n",
       "      <td>tcp</td>\n",
       "      <td>-</td>\n",
       "      <td>FIN</td>\n",
       "      <td>8</td>\n",
       "      <td>16</td>\n",
       "      <td>364</td>\n",
       "      <td>13186</td>\n",
       "      <td>14.170161</td>\n",
       "      <td>62</td>\n",
       "      <td>...</td>\n",
       "      <td>1</td>\n",
       "      <td>3</td>\n",
       "      <td>0</td>\n",
       "      <td>0</td>\n",
       "      <td>0</td>\n",
       "      <td>2</td>\n",
       "      <td>6</td>\n",
       "      <td>0</td>\n",
       "      <td>Normal</td>\n",
       "      <td>0</td>\n",
       "    </tr>\n",
       "    <tr>\n",
       "      <td>3</td>\n",
       "      <td>1.681642</td>\n",
       "      <td>tcp</td>\n",
       "      <td>ftp</td>\n",
       "      <td>FIN</td>\n",
       "      <td>12</td>\n",
       "      <td>12</td>\n",
       "      <td>628</td>\n",
       "      <td>770</td>\n",
       "      <td>13.677108</td>\n",
       "      <td>62</td>\n",
       "      <td>...</td>\n",
       "      <td>1</td>\n",
       "      <td>3</td>\n",
       "      <td>1</td>\n",
       "      <td>1</td>\n",
       "      <td>0</td>\n",
       "      <td>2</td>\n",
       "      <td>1</td>\n",
       "      <td>0</td>\n",
       "      <td>Normal</td>\n",
       "      <td>0</td>\n",
       "    </tr>\n",
       "    <tr>\n",
       "      <td>4</td>\n",
       "      <td>0.449454</td>\n",
       "      <td>tcp</td>\n",
       "      <td>-</td>\n",
       "      <td>FIN</td>\n",
       "      <td>10</td>\n",
       "      <td>6</td>\n",
       "      <td>534</td>\n",
       "      <td>268</td>\n",
       "      <td>33.373826</td>\n",
       "      <td>254</td>\n",
       "      <td>...</td>\n",
       "      <td>1</td>\n",
       "      <td>40</td>\n",
       "      <td>0</td>\n",
       "      <td>0</td>\n",
       "      <td>0</td>\n",
       "      <td>2</td>\n",
       "      <td>39</td>\n",
       "      <td>0</td>\n",
       "      <td>Normal</td>\n",
       "      <td>0</td>\n",
       "    </tr>\n",
       "  </tbody>\n",
       "</table>\n",
       "<p>5 rows × 44 columns</p>\n",
       "</div>"
      ],
      "text/plain": [
       "        dur proto service state  spkts  dpkts  sbytes  dbytes       rate  \\\n",
       "0  0.121478   tcp       -   FIN      6      4     258     172  74.087490   \n",
       "1  0.649902   tcp       -   FIN     14     38     734   42014  78.473372   \n",
       "2  1.623129   tcp       -   FIN      8     16     364   13186  14.170161   \n",
       "3  1.681642   tcp     ftp   FIN     12     12     628     770  13.677108   \n",
       "4  0.449454   tcp       -   FIN     10      6     534     268  33.373826   \n",
       "\n",
       "   sttl  ...  ct_dst_sport_ltm  ct_dst_src_ltm  is_ftp_login  ct_ftp_cmd  \\\n",
       "0   252  ...                 1               1             0           0   \n",
       "1    62  ...                 1               2             0           0   \n",
       "2    62  ...                 1               3             0           0   \n",
       "3    62  ...                 1               3             1           1   \n",
       "4   254  ...                 1              40             0           0   \n",
       "\n",
       "   ct_flw_http_mthd  ct_src_ltm  ct_srv_dst  is_sm_ips_ports  attack_cat  \\\n",
       "0                 0           1           1                0      Normal   \n",
       "1                 0           1           6                0      Normal   \n",
       "2                 0           2           6                0      Normal   \n",
       "3                 0           2           1                0      Normal   \n",
       "4                 0           2          39                0      Normal   \n",
       "\n",
       "   label  \n",
       "0      0  \n",
       "1      0  \n",
       "2      0  \n",
       "3      0  \n",
       "4      0  \n",
       "\n",
       "[5 rows x 44 columns]"
      ]
     },
     "execution_count": 4,
     "metadata": {},
     "output_type": "execute_result"
    }
   ],
   "source": [
    "del testing_df['id']\n",
    "testing_df.head()"
   ]
  },
  {
   "cell_type": "code",
   "execution_count": 5,
   "metadata": {
    "scrolled": true
   },
   "outputs": [
    {
     "name": "stdout",
     "output_type": "stream",
     "text": [
      "Training set has 82332 rows.\n",
      "Testing set has 175341 rows.\n"
     ]
    }
   ],
   "source": [
    "print(\"Training set has {} rows.\".format(len(training_df)))\n",
    "print(\"Testing set has {} rows.\".format(len(testing_df)))"
   ]
  },
  {
   "cell_type": "code",
   "execution_count": 6,
   "metadata": {
    "scrolled": true
   },
   "outputs": [
    {
     "name": "stdout",
     "output_type": "stream",
     "text": [
      "The training set has 10 possible outcomes \n",
      "\n",
      "Normal, Reconnaissance, Backdoor, DoS, Exploits, Analysis, Fuzzers, Worms, Shellcode, Generic.\n",
      "\n",
      "The testing set has 10 possible outcomes \n",
      "\n",
      "Normal, Backdoor, Analysis, Fuzzers, Shellcode, Reconnaissance, Exploits, DoS, Worms, Generic.\n"
     ]
    }
   ],
   "source": [
    "training_attacks=training_df[\"attack_cat\"].unique()\n",
    "testing_attacks=testing_df[\"attack_cat\"].unique()\n",
    "print(\"The training set has {} possible outcomes \\n\".format(len(training_attacks)) )\n",
    "print(\", \".join(training_attacks)+\".\")\n",
    "print(\"\\nThe testing set has {} possible outcomes \\n\".format(len(testing_attacks)))\n",
    "print(\", \".join(testing_attacks)+\".\")"
   ]
  },
  {
   "cell_type": "code",
   "execution_count": 7,
   "metadata": {},
   "outputs": [],
   "source": [
    "# testing_df = testing_df.fillna(0)\n",
    "# testing_df['attack_cat'].unique()"
   ]
  },
  {
   "cell_type": "code",
   "execution_count": 8,
   "metadata": {},
   "outputs": [],
   "source": [
    "reconnaissance_attacks=['Reconnaissance']\n",
    "backdoor_attacks=['Backdoor']\n",
    "dos_attacks=['DoS']\n",
    "exploits_attacks=['Exploits']\n",
    "analysis_attacks=['Analysis']\n",
    "fuzzers_attacks=['Fuzzers']\n",
    "worms_attacks=['Worms']\n",
    "shellcode_attacks=['Shellcode']\n",
    "generic_attacks=['Generic']\n",
    "\n",
    "classes=[\"Normal\",\"Reconnaissance\",\"Backdoor\", \"DoS\", \"Exploits\", \"Analysis\", \"Fuzzers\", \"Worms\", \"Shellcode\", \"Generic\"]\n",
    "\n",
    "#Helper function to label samples to 5 classes\n",
    "def label_attack (row):\n",
    "    if row[\"attack_cat\"] in reconnaissance_attacks:\n",
    "        return classes[1]\n",
    "    if row[\"attack_cat\"] in backdoor_attacks:\n",
    "        return classes[2]\n",
    "    if row[\"attack_cat\"] in dos_attacks:\n",
    "        return classes[3]\n",
    "    if row[\"attack_cat\"] in exploits_attacks:\n",
    "        return classes[4]\n",
    "    if row[\"attack_cat\"] in analysis_attacks:\n",
    "        return classes[5]\n",
    "    if row[\"attack_cat\"] in fuzzers_attacks:\n",
    "        return classes[6]\n",
    "    if row[\"attack_cat\"] in worms_attacks:\n",
    "        return classes[7]\n",
    "    if row[\"attack_cat\"] in shellcode_attacks:\n",
    "        return classes[8]\n",
    "    if row[\"attack_cat\"] in generic_attacks:\n",
    "        return classes[9]\n",
    "    \n",
    "    return classes[0]\n",
    "\n",
    "\n",
    "#We combine the datasets temporarily to do the labeling \n",
    "test_samples_length = len(testing_df)\n",
    "df=pd.concat([training_df,testing_df])\n",
    "df[\"Class\"]=df.apply(label_attack,axis=1)\n",
    "\n",
    "target=training_df[\"attack_cat\"]\n",
    "test_target=testing_df[\"attack_cat\"]\n",
    "\n",
    "df=df.drop(\"attack_cat\",axis=1)\n",
    "df=df.drop(\"label\",axis=1)\n",
    "\n",
    "# we again split the data into training and test sets.\n",
    "training_df= df.iloc[:-test_samples_length, :]\n",
    "testing_df= df.iloc[-test_samples_length:,:]"
   ]
  },
  {
   "cell_type": "code",
   "execution_count": 9,
   "metadata": {
    "scrolled": true
   },
   "outputs": [
    {
     "name": "stdout",
     "output_type": "stream",
     "text": [
      "The training set has 10 possible attacks \n",
      "\n",
      "Normal, Reconnaissance, Backdoor, DoS, Exploits, Analysis, Fuzzers, Worms, Shellcode, Generic.\n",
      "\n",
      "The testing set has 10 possible attacks \n",
      "\n",
      "Normal, Backdoor, Analysis, Fuzzers, Shellcode, Reconnaissance, Exploits, DoS, Worms, Generic.\n"
     ]
    }
   ],
   "source": [
    "training_attacks=training_df[\"Class\"].unique()\n",
    "testing_attacks=testing_df[\"Class\"].unique()\n",
    "print(\"The training set has {} possible attacks \\n\".format(len(training_attacks)) )\n",
    "print(\", \".join(training_attacks)+\".\")\n",
    "print(\"\\nThe testing set has {} possible attacks \\n\".format(len(testing_attacks)))\n",
    "print(\", \".join(testing_attacks)+\".\")"
   ]
  },
  {
   "cell_type": "code",
   "execution_count": 10,
   "metadata": {},
   "outputs": [],
   "source": [
    "# Helper function for scaling continous values\n",
    "def minmax_scale_values(training_df,testing_df, col_name):\n",
    "    scaler = MinMaxScaler()\n",
    "    scaler = scaler.fit(training_df[col_name].values.reshape(-1, 1))\n",
    "    train_values_standardized = scaler.transform(training_df[col_name].values.reshape(-1, 1))\n",
    "    training_df[col_name] = train_values_standardized\n",
    "    test_values_standardized = scaler.transform(testing_df[col_name].values.reshape(-1, 1))\n",
    "    testing_df[col_name] = test_values_standardized\n",
    "    \n",
    "    \n",
    "#Helper function for one hot encoding\n",
    "def encode_text(training_df,testing_df, name):\n",
    "    training_set_dummies = pd.get_dummies(training_df[name])\n",
    "    testing_set_dummies = pd.get_dummies(testing_df[name])\n",
    "    for x in training_set_dummies.columns:\n",
    "        dummy_name = \"{}_{}\".format(name, x)\n",
    "        training_df[dummy_name] = training_set_dummies[x]\n",
    "        if x in testing_set_dummies.columns :\n",
    "            testing_df[dummy_name]=testing_set_dummies[x]\n",
    "        else :\n",
    "            testing_df[dummy_name]=np.zeros(len(testing_df))\n",
    "    training_df.drop(name, axis=1, inplace=True)\n",
    "    testing_df.drop(name, axis=1, inplace=True)\n",
    "    \n",
    "    \n",
    "symbolic_columns=[\"proto\",\"service\",\"state\"]\n",
    "label_column=\"Class\"\n",
    "for column in df.columns :\n",
    "    if column in symbolic_columns:\n",
    "        encode_text(training_df,testing_df,column)\n",
    "    elif not column == label_column:\n",
    "        minmax_scale_values(training_df,testing_df, column)\n"
   ]
  },
  {
   "cell_type": "code",
   "execution_count": 11,
   "metadata": {},
   "outputs": [
    {
     "data": {
      "text/html": [
       "<div>\n",
       "<style scoped>\n",
       "    .dataframe tbody tr th:only-of-type {\n",
       "        vertical-align: middle;\n",
       "    }\n",
       "\n",
       "    .dataframe tbody tr th {\n",
       "        vertical-align: top;\n",
       "    }\n",
       "\n",
       "    .dataframe thead th {\n",
       "        text-align: right;\n",
       "    }\n",
       "</style>\n",
       "<table border=\"1\" class=\"dataframe\">\n",
       "  <thead>\n",
       "    <tr style=\"text-align: right;\">\n",
       "      <th></th>\n",
       "      <th>dur</th>\n",
       "      <th>spkts</th>\n",
       "      <th>dpkts</th>\n",
       "      <th>sbytes</th>\n",
       "      <th>dbytes</th>\n",
       "      <th>rate</th>\n",
       "      <th>sttl</th>\n",
       "      <th>dttl</th>\n",
       "      <th>sload</th>\n",
       "      <th>dload</th>\n",
       "      <th>...</th>\n",
       "      <th>service_snmp</th>\n",
       "      <th>service_ssh</th>\n",
       "      <th>service_ssl</th>\n",
       "      <th>state_ACC</th>\n",
       "      <th>state_CLO</th>\n",
       "      <th>state_CON</th>\n",
       "      <th>state_FIN</th>\n",
       "      <th>state_INT</th>\n",
       "      <th>state_REQ</th>\n",
       "      <th>state_RST</th>\n",
       "    </tr>\n",
       "  </thead>\n",
       "  <tbody>\n",
       "    <tr>\n",
       "      <td>0</td>\n",
       "      <td>1.833334e-07</td>\n",
       "      <td>0.000094</td>\n",
       "      <td>0.0</td>\n",
       "      <td>0.000033</td>\n",
       "      <td>0.0</td>\n",
       "      <td>0.090909</td>\n",
       "      <td>0.996078</td>\n",
       "      <td>0.0</td>\n",
       "      <td>0.034238</td>\n",
       "      <td>0.0</td>\n",
       "      <td>...</td>\n",
       "      <td>0</td>\n",
       "      <td>0</td>\n",
       "      <td>0</td>\n",
       "      <td>0</td>\n",
       "      <td>0</td>\n",
       "      <td>0</td>\n",
       "      <td>0</td>\n",
       "      <td>1</td>\n",
       "      <td>0</td>\n",
       "      <td>0</td>\n",
       "    </tr>\n",
       "    <tr>\n",
       "      <td>1</td>\n",
       "      <td>1.333334e-07</td>\n",
       "      <td>0.000094</td>\n",
       "      <td>0.0</td>\n",
       "      <td>0.000121</td>\n",
       "      <td>0.0</td>\n",
       "      <td>0.125000</td>\n",
       "      <td>0.996078</td>\n",
       "      <td>0.0</td>\n",
       "      <td>0.167236</td>\n",
       "      <td>0.0</td>\n",
       "      <td>...</td>\n",
       "      <td>0</td>\n",
       "      <td>0</td>\n",
       "      <td>0</td>\n",
       "      <td>0</td>\n",
       "      <td>0</td>\n",
       "      <td>0</td>\n",
       "      <td>0</td>\n",
       "      <td>1</td>\n",
       "      <td>0</td>\n",
       "      <td>0</td>\n",
       "    </tr>\n",
       "    <tr>\n",
       "      <td>2</td>\n",
       "      <td>8.333335e-08</td>\n",
       "      <td>0.000094</td>\n",
       "      <td>0.0</td>\n",
       "      <td>0.000073</td>\n",
       "      <td>0.0</td>\n",
       "      <td>0.200000</td>\n",
       "      <td>0.996078</td>\n",
       "      <td>0.0</td>\n",
       "      <td>0.162187</td>\n",
       "      <td>0.0</td>\n",
       "      <td>...</td>\n",
       "      <td>0</td>\n",
       "      <td>0</td>\n",
       "      <td>0</td>\n",
       "      <td>0</td>\n",
       "      <td>0</td>\n",
       "      <td>0</td>\n",
       "      <td>0</td>\n",
       "      <td>1</td>\n",
       "      <td>0</td>\n",
       "      <td>0</td>\n",
       "    </tr>\n",
       "    <tr>\n",
       "      <td>3</td>\n",
       "      <td>1.000000e-07</td>\n",
       "      <td>0.000094</td>\n",
       "      <td>0.0</td>\n",
       "      <td>0.000061</td>\n",
       "      <td>0.0</td>\n",
       "      <td>0.166667</td>\n",
       "      <td>0.996078</td>\n",
       "      <td>0.0</td>\n",
       "      <td>0.113895</td>\n",
       "      <td>0.0</td>\n",
       "      <td>...</td>\n",
       "      <td>0</td>\n",
       "      <td>0</td>\n",
       "      <td>0</td>\n",
       "      <td>0</td>\n",
       "      <td>0</td>\n",
       "      <td>0</td>\n",
       "      <td>0</td>\n",
       "      <td>1</td>\n",
       "      <td>0</td>\n",
       "      <td>0</td>\n",
       "    </tr>\n",
       "    <tr>\n",
       "      <td>4</td>\n",
       "      <td>1.666667e-07</td>\n",
       "      <td>0.000094</td>\n",
       "      <td>0.0</td>\n",
       "      <td>0.000146</td>\n",
       "      <td>0.0</td>\n",
       "      <td>0.100000</td>\n",
       "      <td>0.996078</td>\n",
       "      <td>0.0</td>\n",
       "      <td>0.161427</td>\n",
       "      <td>0.0</td>\n",
       "      <td>...</td>\n",
       "      <td>0</td>\n",
       "      <td>0</td>\n",
       "      <td>0</td>\n",
       "      <td>0</td>\n",
       "      <td>0</td>\n",
       "      <td>0</td>\n",
       "      <td>0</td>\n",
       "      <td>1</td>\n",
       "      <td>0</td>\n",
       "      <td>0</td>\n",
       "    </tr>\n",
       "  </tbody>\n",
       "</table>\n",
       "<p>5 rows × 191 columns</p>\n",
       "</div>"
      ],
      "text/plain": [
       "            dur     spkts  dpkts    sbytes  dbytes      rate      sttl  dttl  \\\n",
       "0  1.833334e-07  0.000094    0.0  0.000033     0.0  0.090909  0.996078   0.0   \n",
       "1  1.333334e-07  0.000094    0.0  0.000121     0.0  0.125000  0.996078   0.0   \n",
       "2  8.333335e-08  0.000094    0.0  0.000073     0.0  0.200000  0.996078   0.0   \n",
       "3  1.000000e-07  0.000094    0.0  0.000061     0.0  0.166667  0.996078   0.0   \n",
       "4  1.666667e-07  0.000094    0.0  0.000146     0.0  0.100000  0.996078   0.0   \n",
       "\n",
       "      sload  dload  ...  service_snmp  service_ssh  service_ssl  state_ACC  \\\n",
       "0  0.034238    0.0  ...             0            0            0          0   \n",
       "1  0.167236    0.0  ...             0            0            0          0   \n",
       "2  0.162187    0.0  ...             0            0            0          0   \n",
       "3  0.113895    0.0  ...             0            0            0          0   \n",
       "4  0.161427    0.0  ...             0            0            0          0   \n",
       "\n",
       "   state_CLO  state_CON  state_FIN  state_INT  state_REQ  state_RST  \n",
       "0          0          0          0          1          0          0  \n",
       "1          0          0          0          1          0          0  \n",
       "2          0          0          0          1          0          0  \n",
       "3          0          0          0          1          0          0  \n",
       "4          0          0          0          1          0          0  \n",
       "\n",
       "[5 rows x 191 columns]"
      ]
     },
     "execution_count": 11,
     "metadata": {},
     "output_type": "execute_result"
    }
   ],
   "source": [
    "training_df.head(5)"
   ]
  },
  {
   "cell_type": "code",
   "execution_count": 12,
   "metadata": {},
   "outputs": [
    {
     "data": {
      "text/html": [
       "<div>\n",
       "<style scoped>\n",
       "    .dataframe tbody tr th:only-of-type {\n",
       "        vertical-align: middle;\n",
       "    }\n",
       "\n",
       "    .dataframe tbody tr th {\n",
       "        vertical-align: top;\n",
       "    }\n",
       "\n",
       "    .dataframe thead th {\n",
       "        text-align: right;\n",
       "    }\n",
       "</style>\n",
       "<table border=\"1\" class=\"dataframe\">\n",
       "  <thead>\n",
       "    <tr style=\"text-align: right;\">\n",
       "      <th></th>\n",
       "      <th>dur</th>\n",
       "      <th>spkts</th>\n",
       "      <th>dpkts</th>\n",
       "      <th>sbytes</th>\n",
       "      <th>dbytes</th>\n",
       "      <th>rate</th>\n",
       "      <th>sttl</th>\n",
       "      <th>dttl</th>\n",
       "      <th>sload</th>\n",
       "      <th>dload</th>\n",
       "      <th>...</th>\n",
       "      <th>service_snmp</th>\n",
       "      <th>service_ssh</th>\n",
       "      <th>service_ssl</th>\n",
       "      <th>state_ACC</th>\n",
       "      <th>state_CLO</th>\n",
       "      <th>state_CON</th>\n",
       "      <th>state_FIN</th>\n",
       "      <th>state_INT</th>\n",
       "      <th>state_REQ</th>\n",
       "      <th>state_RST</th>\n",
       "    </tr>\n",
       "  </thead>\n",
       "  <tbody>\n",
       "    <tr>\n",
       "      <td>0</td>\n",
       "      <td>0.002025</td>\n",
       "      <td>0.000470</td>\n",
       "      <td>0.000363</td>\n",
       "      <td>0.000016</td>\n",
       "      <td>0.000012</td>\n",
       "      <td>0.000074</td>\n",
       "      <td>0.988235</td>\n",
       "      <td>1.003953</td>\n",
       "      <td>2.687726e-06</td>\n",
       "      <td>0.000408</td>\n",
       "      <td>...</td>\n",
       "      <td>0</td>\n",
       "      <td>0</td>\n",
       "      <td>0</td>\n",
       "      <td>0.0</td>\n",
       "      <td>0.0</td>\n",
       "      <td>0</td>\n",
       "      <td>1</td>\n",
       "      <td>0</td>\n",
       "      <td>0</td>\n",
       "      <td>0</td>\n",
       "    </tr>\n",
       "    <tr>\n",
       "      <td>1</td>\n",
       "      <td>0.010832</td>\n",
       "      <td>0.001221</td>\n",
       "      <td>0.003449</td>\n",
       "      <td>0.000049</td>\n",
       "      <td>0.002866</td>\n",
       "      <td>0.000078</td>\n",
       "      <td>0.243137</td>\n",
       "      <td>0.996047</td>\n",
       "      <td>1.593605e-06</td>\n",
       "      <td>0.024186</td>\n",
       "      <td>...</td>\n",
       "      <td>0</td>\n",
       "      <td>0</td>\n",
       "      <td>0</td>\n",
       "      <td>0.0</td>\n",
       "      <td>0.0</td>\n",
       "      <td>0</td>\n",
       "      <td>1</td>\n",
       "      <td>0</td>\n",
       "      <td>0</td>\n",
       "      <td>0</td>\n",
       "    </tr>\n",
       "    <tr>\n",
       "      <td>2</td>\n",
       "      <td>0.027052</td>\n",
       "      <td>0.000658</td>\n",
       "      <td>0.001452</td>\n",
       "      <td>0.000024</td>\n",
       "      <td>0.000900</td>\n",
       "      <td>0.000014</td>\n",
       "      <td>0.243137</td>\n",
       "      <td>0.996047</td>\n",
       "      <td>2.984571e-07</td>\n",
       "      <td>0.002926</td>\n",
       "      <td>...</td>\n",
       "      <td>0</td>\n",
       "      <td>0</td>\n",
       "      <td>0</td>\n",
       "      <td>0.0</td>\n",
       "      <td>0.0</td>\n",
       "      <td>0</td>\n",
       "      <td>1</td>\n",
       "      <td>0</td>\n",
       "      <td>0</td>\n",
       "      <td>0</td>\n",
       "    </tr>\n",
       "    <tr>\n",
       "      <td>3</td>\n",
       "      <td>0.028027</td>\n",
       "      <td>0.001033</td>\n",
       "      <td>0.001089</td>\n",
       "      <td>0.000042</td>\n",
       "      <td>0.000053</td>\n",
       "      <td>0.000014</td>\n",
       "      <td>0.243137</td>\n",
       "      <td>0.996047</td>\n",
       "      <td>5.201554e-07</td>\n",
       "      <td>0.000161</td>\n",
       "      <td>...</td>\n",
       "      <td>0</td>\n",
       "      <td>0</td>\n",
       "      <td>0</td>\n",
       "      <td>0.0</td>\n",
       "      <td>0.0</td>\n",
       "      <td>0</td>\n",
       "      <td>1</td>\n",
       "      <td>0</td>\n",
       "      <td>0</td>\n",
       "      <td>0</td>\n",
       "    </tr>\n",
       "    <tr>\n",
       "      <td>4</td>\n",
       "      <td>0.007491</td>\n",
       "      <td>0.000845</td>\n",
       "      <td>0.000545</td>\n",
       "      <td>0.000036</td>\n",
       "      <td>0.000018</td>\n",
       "      <td>0.000033</td>\n",
       "      <td>0.996078</td>\n",
       "      <td>0.996047</td>\n",
       "      <td>1.625190e-06</td>\n",
       "      <td>0.000191</td>\n",
       "      <td>...</td>\n",
       "      <td>0</td>\n",
       "      <td>0</td>\n",
       "      <td>0</td>\n",
       "      <td>0.0</td>\n",
       "      <td>0.0</td>\n",
       "      <td>0</td>\n",
       "      <td>1</td>\n",
       "      <td>0</td>\n",
       "      <td>0</td>\n",
       "      <td>0</td>\n",
       "    </tr>\n",
       "  </tbody>\n",
       "</table>\n",
       "<p>5 rows × 191 columns</p>\n",
       "</div>"
      ],
      "text/plain": [
       "        dur     spkts     dpkts    sbytes    dbytes      rate      sttl  \\\n",
       "0  0.002025  0.000470  0.000363  0.000016  0.000012  0.000074  0.988235   \n",
       "1  0.010832  0.001221  0.003449  0.000049  0.002866  0.000078  0.243137   \n",
       "2  0.027052  0.000658  0.001452  0.000024  0.000900  0.000014  0.243137   \n",
       "3  0.028027  0.001033  0.001089  0.000042  0.000053  0.000014  0.243137   \n",
       "4  0.007491  0.000845  0.000545  0.000036  0.000018  0.000033  0.996078   \n",
       "\n",
       "       dttl         sload     dload  ...  service_snmp  service_ssh  \\\n",
       "0  1.003953  2.687726e-06  0.000408  ...             0            0   \n",
       "1  0.996047  1.593605e-06  0.024186  ...             0            0   \n",
       "2  0.996047  2.984571e-07  0.002926  ...             0            0   \n",
       "3  0.996047  5.201554e-07  0.000161  ...             0            0   \n",
       "4  0.996047  1.625190e-06  0.000191  ...             0            0   \n",
       "\n",
       "   service_ssl  state_ACC  state_CLO  state_CON  state_FIN  state_INT  \\\n",
       "0            0        0.0        0.0          0          1          0   \n",
       "1            0        0.0        0.0          0          1          0   \n",
       "2            0        0.0        0.0          0          1          0   \n",
       "3            0        0.0        0.0          0          1          0   \n",
       "4            0        0.0        0.0          0          1          0   \n",
       "\n",
       "   state_REQ  state_RST  \n",
       "0          0          0  \n",
       "1          0          0  \n",
       "2          0          0  \n",
       "3          0          0  \n",
       "4          0          0  \n",
       "\n",
       "[5 rows x 191 columns]"
      ]
     },
     "execution_count": 12,
     "metadata": {},
     "output_type": "execute_result"
    }
   ],
   "source": [
    "testing_df.head(5)"
   ]
  },
  {
   "cell_type": "code",
   "execution_count": 13,
   "metadata": {},
   "outputs": [],
   "source": [
    "x,y=training_df,training_df.pop(\"Class\").values\n",
    "x=x.values\n",
    "x_test,y_test=testing_df,testing_df.pop(\"Class\").values\n",
    "x_test=x_test.values\n",
    "y0=np.ones(len(y),np.int8)\n",
    "y0[np.where(y==classes[0])]=0\n",
    "y0_test=np.ones(len(y_test),np.int8)\n",
    "y0_test[np.where(y_test==classes[0])]=0"
   ]
  },
  {
   "cell_type": "code",
   "execution_count": 14,
   "metadata": {},
   "outputs": [
    {
     "data": {
      "text/plain": [
       "(82332, 190)"
      ]
     },
     "execution_count": 14,
     "metadata": {},
     "output_type": "execute_result"
    }
   ],
   "source": [
    "x.shape\n"
   ]
  },
  {
   "cell_type": "code",
   "execution_count": 15,
   "metadata": {},
   "outputs": [
    {
     "data": {
      "text/plain": [
       "(175341, 190)"
      ]
     },
     "execution_count": 15,
     "metadata": {},
     "output_type": "execute_result"
    }
   ],
   "source": [
    "x_test.shape"
   ]
  },
  {
   "cell_type": "code",
   "execution_count": 16,
   "metadata": {},
   "outputs": [
    {
     "data": {
      "text/plain": [
       "(82332,)"
      ]
     },
     "execution_count": 16,
     "metadata": {},
     "output_type": "execute_result"
    }
   ],
   "source": [
    "y.shape"
   ]
  },
  {
   "cell_type": "code",
   "execution_count": 17,
   "metadata": {},
   "outputs": [
    {
     "data": {
      "text/plain": [
       "(175341,)"
      ]
     },
     "execution_count": 17,
     "metadata": {},
     "output_type": "execute_result"
    }
   ],
   "source": [
    "y_test.shape"
   ]
  },
  {
   "cell_type": "code",
   "execution_count": 18,
   "metadata": {},
   "outputs": [
    {
     "name": "stdout",
     "output_type": "stream",
     "text": [
      "0        Normal\n",
      "1        Normal\n",
      "2        Normal\n",
      "3        Normal\n",
      "4        Normal\n",
      "          ...  \n",
      "82327    Normal\n",
      "82328    Normal\n",
      "82329    Normal\n",
      "82330    Normal\n",
      "82331    Normal\n",
      "Name: attack_cat, Length: 82332, dtype: object\n"
     ]
    }
   ],
   "source": [
    "ncol = x.shape[1]\n",
    "X_train, X_test, Y_train, Y_test = train_test_split(x, target, train_size = 0.9, random_state = seed(2017))\n",
    "print(target)"
   ]
  },
  {
   "cell_type": "code",
   "execution_count": 19,
   "metadata": {},
   "outputs": [],
   "source": [
    "encoding_dim = 151\n",
    "input_dim = Input(shape = (ncol, ))\n",
    "\n",
    "# Encoder Layers\n",
    "encoded1 = Dense(16, activation = 'relu')(input_dim)\n",
    "encoded2 = Dense(encoding_dim, activation = 'relu')(encoded1)\n",
    "\n",
    "# Decoder Layers\n",
    "decoded1 = Dense(16, activation = 'relu')(encoded2)\n",
    "decoded2 = Dense(ncol, activation = 'sigmoid')(decoded1)\n",
    "\n",
    "# Combine Encoder and Deocder layers\n",
    "autoencoder = Model(inputs = input_dim, outputs = decoded2)\n",
    "\n",
    "# Compile the Model\n",
    "autoencoder.compile(optimizer = 'adadelta', loss = 'binary_crossentropy')"
   ]
  },
  {
   "cell_type": "code",
   "execution_count": 20,
   "metadata": {},
   "outputs": [
    {
     "name": "stdout",
     "output_type": "stream",
     "text": [
      "Train on 74098 samples, validate on 8234 samples\n",
      "Epoch 1/10\n",
      "74098/74098 [==============================] - 4s 57us/step - loss: 0.1132 - val_loss: 0.0430\n",
      "Epoch 2/10\n",
      "74098/74098 [==============================] - 4s 51us/step - loss: 0.0414 - val_loss: 0.0407\n",
      "Epoch 3/10\n",
      "74098/74098 [==============================] - 4s 49us/step - loss: 0.0387 - val_loss: 0.0367\n",
      "Epoch 4/10\n",
      "74098/74098 [==============================] - 4s 50us/step - loss: 0.0346 - val_loss: 0.0336\n",
      "Epoch 5/10\n",
      "74098/74098 [==============================] - 4s 56us/step - loss: 0.0325 - val_loss: 0.0319\n",
      "Epoch 6/10\n",
      "74098/74098 [==============================] - 4s 50us/step - loss: 0.0308 - val_loss: 0.0302\n",
      "Epoch 7/10\n",
      "74098/74098 [==============================] - 4s 50us/step - loss: 0.0292 - val_loss: 0.0287\n",
      "Epoch 8/10\n",
      "74098/74098 [==============================] - 4s 50us/step - loss: 0.0280 - val_loss: 0.0278\n",
      "Epoch 9/10\n",
      "74098/74098 [==============================] - 4s 48us/step - loss: 0.0272 - val_loss: 0.0271\n",
      "Epoch 10/10\n",
      "74098/74098 [==============================] - 4s 49us/step - loss: 0.0266 - val_loss: 0.0265\n"
     ]
    }
   ],
   "source": [
    "history=autoencoder.fit(X_train, X_train, nb_epoch = 10, batch_size = 100, shuffle = True, validation_data = (X_test, X_test))"
   ]
  },
  {
   "cell_type": "code",
   "execution_count": 21,
   "metadata": {},
   "outputs": [],
   "source": [
    "encoder = Model(inputs = input_dim, outputs = encoded2)\n",
    "encoded_input = Input(shape = (encoding_dim, ))"
   ]
  },
  {
   "cell_type": "code",
   "execution_count": 22,
   "metadata": {},
   "outputs": [],
   "source": [
    "x_train = pd.DataFrame(encoder.predict(x))\n",
    "x_test = pd.DataFrame(encoder.predict(x_test))"
   ]
  },
  {
   "cell_type": "code",
   "execution_count": 23,
   "metadata": {},
   "outputs": [],
   "source": [
    "x_train['target'] = target\n",
    "x_test['target']=test_target"
   ]
  },
  {
   "cell_type": "code",
   "execution_count": 24,
   "metadata": {},
   "outputs": [
    {
     "data": {
      "text/plain": [
       "(82332, 152)"
      ]
     },
     "execution_count": 24,
     "metadata": {},
     "output_type": "execute_result"
    }
   ],
   "source": [
    "x_train.shape"
   ]
  },
  {
   "cell_type": "code",
   "execution_count": 25,
   "metadata": {},
   "outputs": [
    {
     "name": "stdout",
     "output_type": "stream",
     "text": [
      "0    0\n",
      "1    0\n",
      "2    0\n",
      "3    0\n",
      "4    0\n",
      "Name: target, dtype: int64\n"
     ]
    }
   ],
   "source": [
    "attack_df_train=x_train['target']\n",
    "attack_df_test=x_test['target']\n",
    "# change the label column\n",
    "new_attack_df_train=attack_df_train.replace({ 'Normal' : 0, 'Generic' : 1 ,'Exploits' : 2,'Fuzzers': 3,'DoS': 4,'Reconnaissance': 5,\n",
    "                            'Analysis' : 6,'Backdoor' : 7,'Shellcode' : 8,'Worms' : 9})\n",
    "new_attack_df_test=attack_df_test.replace({ 'Normal' : 0, 'Generic' : 1 ,'Exploits' : 2,'Fuzzers': 3,'DoS': 4,'Reconnaissance': 5,\n",
    "                            'Analysis' : 6,'Backdoor' : 7,'Shellcode' : 8,'Worms' : 9})\n",
    "# put the new label column back\n",
    "x_train['target'] = new_attack_df_train\n",
    "x_test['target'] = new_attack_df_test\n",
    "print(x_train['target'].head())"
   ]
  },
  {
   "cell_type": "code",
   "execution_count": 26,
   "metadata": {},
   "outputs": [
    {
     "name": "stdout",
     "output_type": "stream",
     "text": [
      "(37000, 152)\n",
      "(119341, 152)\n"
     ]
    }
   ],
   "source": [
    "normal_mask=x_train['target'] ==0\n",
    "attack_mask=x_train['target'] !=0\n",
    "\n",
    "# new_df_train.drop('attack_cat',axis=1,inplace=True)\n",
    "\n",
    "x_normal=x_train[normal_mask]\n",
    "x_attack=x_train[attack_mask]\n",
    "\n",
    "normal_mask_test=x_test['target'] ==0\n",
    "attack_mask_test=x_test['target'] !=0\n",
    "\n",
    "# new_df_train.drop('attack_cat',axis=1,inplace=True)\n",
    "\n",
    "normal_test=x_test[normal_mask_test]\n",
    "attack_test=x_test[attack_mask_test]\n",
    "\n",
    "\n",
    "print(x_normal.shape)\n",
    "print(attack_test.shape)"
   ]
  },
  {
   "cell_type": "code",
   "execution_count": 27,
   "metadata": {},
   "outputs": [
    {
     "name": "stdout",
     "output_type": "stream",
     "text": [
      "Train:\n",
      "Dimensions of DoS: (63461, 152)\n",
      "Dimensions of Exploits: (71200, 152)\n",
      "Dimensions of Fuzzers: (76270, 152)\n",
      "Dimensions of DoS: (78243, 152)\n",
      "Dimensions of Reconnaissance: (78836, 152)\n",
      "Dimensions of Analysis: (81655, 152)\n",
      "Dimensions of Backdoor: (81749, 152)\n",
      "Dimensions of Shellcode: (81954, 152)\n",
      "Dimensions of Worms: (82288, 152)\n",
      "Test:\n",
      "Dimensions of DoS: (135341, 152)\n",
      "Dimensions of Exploits: (141948, 152)\n",
      "Dimensions of Fuzzers: (157157, 152)\n",
      "Dimensions of DoS: (163077, 152)\n",
      "Dimensions of Reconnaissance: (164850, 152)\n",
      "Dimensions of Analysis: (173341, 152)\n",
      "Dimensions of Backdoor: (173595, 152)\n",
      "Dimensions of Shellcode: (174208, 152)\n",
      "Dimensions of Worms: (175211, 152)\n"
     ]
    }
   ],
   "source": [
    "drop_Generic = [1]\n",
    "drop_Exploits = [2]\n",
    "drop_Fuzzers = [3]\n",
    "drop_DoS = [4]\n",
    "drop_Reconnaissance = [5]\n",
    "drop_Analysis = [6]\n",
    "drop_Backdoor = [7]\n",
    "drop_Shellcode = [8]\n",
    "drop_Worms = [9]\n",
    "\n",
    "Generic_df=x_train[~x_train['target'].isin(drop_Generic)];\n",
    "Exploits_df=x_train[~x_train['target'].isin(drop_Exploits)];\n",
    "Fuzzers_df=x_train[~x_train['target'].isin(drop_Fuzzers)];\n",
    "DoS_df=x_train[~x_train['target'].isin(drop_DoS)];\n",
    "Reconnaissance_df=x_train[~x_train['target'].isin(drop_Reconnaissance)];\n",
    "Analysis_df=x_train[~x_train['target'].isin(drop_Analysis)];\n",
    "Backdoor_df=x_train[~x_train['target'].isin(drop_Backdoor)];\n",
    "Shellcode_df=x_train[~x_train['target'].isin(drop_Shellcode)];\n",
    "Worms_df=x_train[~x_train['target'].isin(drop_Worms)];\n",
    "\n",
    "#test\n",
    "\n",
    "Generic_df_test=x_test[~x_test['target'].isin(drop_Generic)];\n",
    "Exploits_df_test=x_test[~x_test['target'].isin(drop_Exploits)];\n",
    "Fuzzers_df_test=x_test[~x_test['target'].isin(drop_Fuzzers)];\n",
    "DoS_df_test=x_test[~x_test['target'].isin(drop_DoS)];\n",
    "Reconnaissance_df_test=x_test[~x_test['target'].isin(drop_Reconnaissance)];\n",
    "Analysis_df_test=x_test[~x_test['target'].isin(drop_Analysis)];\n",
    "Backdoor_df_test=x_test[~x_test['target'].isin(drop_Backdoor)];\n",
    "Shellcode_df_test=x_test[~x_test['target'].isin(drop_Shellcode)];\n",
    "Worms_df_test=x_test[~x_test['target'].isin(drop_Worms)];\n",
    "\n",
    "\n",
    "print('Train:')\n",
    "\n",
    "print('Dimensions of DoS:' ,Generic_df.shape)\n",
    "print('Dimensions of Exploits:' ,Exploits_df.shape)\n",
    "print('Dimensions of Fuzzers:' ,Fuzzers_df.shape)\n",
    "print('Dimensions of DoS:' ,DoS_df.shape)\n",
    "print('Dimensions of Reconnaissance:' ,Reconnaissance_df.shape)\n",
    "print('Dimensions of Analysis:' ,Analysis_df.shape)\n",
    "print('Dimensions of Backdoor:' ,Backdoor_df.shape)\n",
    "print('Dimensions of Shellcode:' ,Shellcode_df.shape)\n",
    "print('Dimensions of Worms:' ,Worms_df.shape)\n",
    "\n",
    "print('Test:')\n",
    "print('Dimensions of DoS:' ,Generic_df_test.shape)\n",
    "print('Dimensions of Exploits:' ,Exploits_df_test.shape)\n",
    "print('Dimensions of Fuzzers:' ,Fuzzers_df_test.shape)\n",
    "print('Dimensions of DoS:' ,DoS_df_test.shape)\n",
    "print('Dimensions of Reconnaissance:' ,Reconnaissance_df_test.shape)\n",
    "print('Dimensions of Analysis:' ,Analysis_df_test.shape)\n",
    "print('Dimensions of Backdoor:' ,Backdoor_df_test.shape)\n",
    "print('Dimensions of Shellcode:' ,Shellcode_df_test.shape)\n",
    "print('Dimensions of Worms:' ,Worms_df_test.shape)\n"
   ]
  },
  {
   "cell_type": "code",
   "execution_count": 28,
   "metadata": {},
   "outputs": [],
   "source": [
    "X_Generic = Generic_df.drop('target',1)\n",
    "Y_Generic = Generic_df.target\n",
    "\n",
    "# print(X_Generic)\n",
    "\n",
    "X_Exploits = Exploits_df.drop('target',1)\n",
    "Y_Exploits = Exploits_df.target\n",
    "\n",
    "X_Fuzzers = Fuzzers_df.drop('target',1)\n",
    "Y_Fuzzers = Fuzzers_df.target\n",
    "\n",
    "X_DoS = DoS_df.drop('target',1)\n",
    "Y_DoS = DoS_df.target\n",
    "\n",
    "X_Reconnaissance = Reconnaissance_df.drop('target',1)\n",
    "Y_Reconnaissance = Reconnaissance_df.target\n",
    "\n",
    "X_Analysis = Analysis_df.drop('target',1)\n",
    "Y_Analysis = Analysis_df.target\n",
    "\n",
    "\n",
    "X_Backdoor = Backdoor_df.drop('target',1)\n",
    "Y_Backdoor = Backdoor_df.target\n",
    "\n",
    "\n",
    "X_Shellcode = Shellcode_df.drop('target',1)\n",
    "Y_Shellcode = Shellcode_df.target\n",
    "\n",
    "X_Worms =Worms_df.drop('target',1)\n",
    "Y_Worms =Worms_df.target\n",
    "\n",
    "X_Generic_test = Generic_df_test.drop('target',1)\n",
    "Y_Generic_test = Generic_df_test.target\n",
    "\n",
    "X_Exploits_test = Exploits_df_test.drop('target',1)\n",
    "Y_Exploits_test = Exploits_df_test.target\n",
    "\n",
    "X_Fuzzers_test = Fuzzers_df_test.drop('target',1)\n",
    "Y_Fuzzers_test = Fuzzers_df_test.target\n",
    "\n",
    "X_DoS_test = DoS_df_test.drop('target',1)\n",
    "Y_DoS_test = DoS_df_test.target\n",
    "\n",
    "X_Reconnaissance_test = Reconnaissance_df_test.drop('target',1)\n",
    "Y_Reconnaissance_test = Reconnaissance_df_test.target\n",
    "\n",
    "X_Analysis_test = Analysis_df_test.drop('target',1)\n",
    "Y_Analysis_test = Analysis_df_test.target\n",
    "\n",
    "\n",
    "X_Backdoor_test = Backdoor_df_test.drop('target',1)\n",
    "Y_Backdoor_test = Backdoor_df_test.target\n",
    "\n",
    "\n",
    "X_Shellcode_test = Shellcode_df_test.drop('target',1)\n",
    "Y_Shellcode_test = Shellcode_df_test.target\n",
    "\n",
    "X_Worms_test =Worms_df_test.drop('target',1)\n",
    "Y_Worms_test =Worms_df_test.target\n"
   ]
  },
  {
   "cell_type": "code",
   "execution_count": 29,
   "metadata": {},
   "outputs": [],
   "source": [
    "X_normal=x_normal.drop('target',1)\n",
    "Y_normal=x_normal.target\n",
    "\n",
    "X_attack=x_attack.drop('target',1)\n",
    "Y_attack=x_attack.target\n",
    "\n",
    "X_normal_test=normal_test.drop('target',1)\n",
    "Y_normal_test=normal_test.target\n",
    "\n",
    "X_attack_test=attack_test.drop('target',1)\n",
    "Y_attack_test=attack_test.target\n"
   ]
  },
  {
   "cell_type": "code",
   "execution_count": 30,
   "metadata": {},
   "outputs": [],
   "source": [
    "def accuracy_report(classifier,X,y,num_cv):\n",
    "    from sklearn.model_selection import cross_val_score\n",
    "    from sklearn.metrics import precision_score\n",
    "    from sklearn.model_selection import cross_val_predict\n",
    "\n",
    "#   y_pred = cross_val_predict(classifier, X, y, cv=10)\n",
    "    scores = cross_val_score(classifier, X,y, cv=num_cv)\n",
    "    recall = cross_val_score(classifier, X, y, cv=num_cv, scoring='recall_weighted')\n",
    "    precision = cross_val_score(classifier, X, y, cv=num_cv, scoring='precision_weighted')\n",
    "    f1 = cross_val_score(classifier,X, y, scoring='f1_weighted', cv=num_cv)\n",
    "    \n",
    "    print(\"Accuracy: %0.2f (+/- %0.2f)\" % (scores.mean(), scores.std() * 2))\n",
    "    print(\"Recall: %0.2f (+/- %0.2f)\" % (recall.mean(), recall.std() * 2))\n",
    "    print(\"Precision: %0.2f (+/- %0.2f)\" % (precision.mean(), precision.std() * 2))\n",
    "    print(\"F1-Score: %0.2f (+/- %0.2f)\" % (f1.mean(), f1.std() * 2))"
   ]
  },
  {
   "cell_type": "code",
   "execution_count": 31,
   "metadata": {},
   "outputs": [
    {
     "data": {
      "text/plain": [
       "DecisionTreeClassifier(class_weight=None, criterion='gini', max_depth=None,\n",
       "                       max_features=None, max_leaf_nodes=None,\n",
       "                       min_impurity_decrease=0.0, min_impurity_split=None,\n",
       "                       min_samples_leaf=1, min_samples_split=2,\n",
       "                       min_weight_fraction_leaf=0.0, presort=False,\n",
       "                       random_state=None, splitter='best')"
      ]
     },
     "execution_count": 31,
     "metadata": {},
     "output_type": "execute_result"
    }
   ],
   "source": [
    "from sklearn import tree\n",
    "rf_DoS = tree.DecisionTreeClassifier()\n",
    "rf_DoS.fit(X_DoS, Y_DoS)\n",
    "\n",
    "rf_Generic= tree.DecisionTreeClassifier()\n",
    "rf_Generic.fit(X_Generic,Y_Generic)\n",
    "\n",
    "rf_Exploits= tree.DecisionTreeClassifier()\n",
    "rf_Exploits.fit(X_Exploits,Y_Exploits)\n",
    "\n",
    "rf_Fuzzers= tree.DecisionTreeClassifier()\n",
    "rf_Fuzzers.fit(X_Fuzzers,Y_Fuzzers)\n",
    "\n",
    "rf_Analysis= tree.DecisionTreeClassifier()\n",
    "rf_Analysis.fit(X_Analysis,Y_Analysis)\n",
    "\n",
    "rf_Backdoor= tree.DecisionTreeClassifier()\n",
    "rf_Backdoor.fit(X_Backdoor,Y_Backdoor)\n",
    "\n",
    "rf_Shellcode= tree.DecisionTreeClassifier()\n",
    "rf_Shellcode.fit(X_Shellcode,Y_Shellcode)\n",
    "\n",
    "rf_Worms= tree.DecisionTreeClassifier()\n",
    "rf_Worms.fit(X_Worms,Y_Worms)\n",
    "\n",
    "rf_Reconnaissance= tree.DecisionTreeClassifier()\n",
    "rf_Reconnaissance.fit(X_Reconnaissance,Y_Reconnaissance)\n",
    "\n",
    "rf_attack= tree.DecisionTreeClassifier()\n",
    "rf_attack.fit(X_attack,Y_attack)"
   ]
  },
  {
   "cell_type": "code",
   "execution_count": 32,
   "metadata": {},
   "outputs": [
    {
     "data": {
      "text/plain": [
       "DecisionTreeClassifier(class_weight=None, criterion='gini', max_depth=None,\n",
       "                       max_features=None, max_leaf_nodes=None,\n",
       "                       min_impurity_decrease=0.0, min_impurity_split=None,\n",
       "                       min_samples_leaf=1, min_samples_split=2,\n",
       "                       min_weight_fraction_leaf=0.0, presort=False,\n",
       "                       random_state=None, splitter='best')"
      ]
     },
     "execution_count": 32,
     "metadata": {},
     "output_type": "execute_result"
    }
   ],
   "source": [
    "rf_normal= tree.DecisionTreeClassifier()\n",
    "rf_normal.fit(X_normal,Y_normal)"
   ]
  },
  {
   "cell_type": "code",
   "execution_count": 33,
   "metadata": {},
   "outputs": [
    {
     "data": {
      "text/plain": [
       "array([4, 4, 4, ..., 1, 1, 1], dtype=int64)"
      ]
     },
     "execution_count": 33,
     "metadata": {},
     "output_type": "execute_result"
    }
   ],
   "source": [
    "rf_DoS.predict(X_DoS_test)\n",
    "rf_Generic.predict(X_Generic_test)\n",
    "rf_Exploits.predict(X_Exploits_test)\n",
    "rf_Fuzzers.predict(X_Fuzzers_test)\n",
    "rf_Analysis.predict(X_Analysis_test)\n",
    "rf_Backdoor.predict(X_Backdoor_test)\n",
    "rf_Shellcode.predict(X_Shellcode_test)\n",
    "rf_Worms.predict(X_Worms_test)\n",
    "rf_Reconnaissance.predict(X_Reconnaissance_test)\n",
    "rf_attack.predict(X_attack_test)"
   ]
  },
  {
   "cell_type": "code",
   "execution_count": 34,
   "metadata": {},
   "outputs": [
    {
     "data": {
      "text/plain": [
       "array([0, 0, 0, ..., 0, 0, 0], dtype=int64)"
      ]
     },
     "execution_count": 34,
     "metadata": {},
     "output_type": "execute_result"
    }
   ],
   "source": [
    "rf_normal.predict(X_normal_test)"
   ]
  },
  {
   "cell_type": "code",
   "execution_count": 35,
   "metadata": {},
   "outputs": [],
   "source": [
    "# rf_DoS.predict_proba(X_DoS_test)[0:10]\n",
    "# rf_Generic.predict_proba(X_Generic_test)[0:10]"
   ]
  },
  {
   "cell_type": "code",
   "execution_count": 36,
   "metadata": {},
   "outputs": [],
   "source": [
    "Y_DoS_pred=rf_DoS.predict(X_DoS_test)\n",
    "Y_Generic_pred=rf_Generic.predict(X_Generic_test)\n",
    "Y_Exploits_pred=rf_Exploits.predict(X_Exploits_test)\n",
    "Y_Fuzzers_pred=rf_Fuzzers.predict(X_Fuzzers_test)\n",
    "Y_Analysis_pred=rf_Analysis.predict(X_Analysis_test)\n",
    "Y_Backdoor_pred=rf_Backdoor.predict(X_Backdoor_test)\n",
    "Y_Shellcode_pred=rf_Shellcode.predict(X_Shellcode_test)\n",
    "Y_Worms_pred=rf_Worms.predict(X_Worms_test)\n",
    "Y_Reconnaissance_pred=rf_Reconnaissance.predict(X_Reconnaissance_test)\n",
    "\n",
    "Y_attack_pred=rf_attack.predict(X_attack_test)\n",
    "# Create confusion matrix\n",
    "# pd.crosstab(Y_DoS_test, Y_DoS_pred, rownames=['Actual attacks'], colnames=['Predicted attacks'])"
   ]
  },
  {
   "cell_type": "code",
   "execution_count": 37,
   "metadata": {},
   "outputs": [],
   "source": [
    "Y_normal_pred=rf_normal.predict(X_normal_test)"
   ]
  },
  {
   "cell_type": "code",
   "execution_count": 39,
   "metadata": {},
   "outputs": [
    {
     "name": "stdout",
     "output_type": "stream",
     "text": [
      "Accuracy: 0.81 (+/- 0.14)\n",
      "Recall: 0.81 (+/- 0.13)\n",
      "Precision: 0.81 (+/- 0.08)\n",
      "F1-Score: 0.80 (+/- 0.13)\n"
     ]
    }
   ],
   "source": [
    "# DoS_accuracy=accuracy_report(rf_DoS,X_DoS_test,Y_DoS_test,10)"
   ]
  },
  {
   "cell_type": "code",
   "execution_count": 40,
   "metadata": {},
   "outputs": [
    {
     "name": "stdout",
     "output_type": "stream",
     "text": [
      "Accuracy: 0.81 (+/- 0.14)\n",
      "Recall: 0.81 (+/- 0.14)\n",
      "Precision: 0.82 (+/- 0.08)\n",
      "F1-Score: 0.80 (+/- 0.12)\n"
     ]
    }
   ],
   "source": [
    "# Exploits_accuracy=accuracy_report(rf_Exploits,X_Exploits_test,Y_Exploits_test,10)"
   ]
  },
  {
   "cell_type": "code",
   "execution_count": 41,
   "metadata": {},
   "outputs": [
    {
     "name": "stdout",
     "output_type": "stream",
     "text": [
      "Accuracy: 0.80 (+/- 0.07)\n",
      "Recall: 0.80 (+/- 0.07)\n",
      "Precision: 0.79 (+/- 0.04)\n",
      "F1-Score: 0.79 (+/- 0.05)\n"
     ]
    }
   ],
   "source": [
    "# Fuzzers_accuracy=accuracy_report(rf_Fuzzers,X_Fuzzers_test,Y_Fuzzers_test,10)"
   ]
  },
  {
   "cell_type": "code",
   "execution_count": 42,
   "metadata": {},
   "outputs": [
    {
     "name": "stdout",
     "output_type": "stream",
     "text": [
      "Accuracy: 0.75 (+/- 0.12)\n",
      "Recall: 0.75 (+/- 0.12)\n",
      "Precision: 0.75 (+/- 0.07)\n",
      "F1-Score: 0.74 (+/- 0.10)\n"
     ]
    }
   ],
   "source": [
    "# Analysis_accuracy=accuracy_report(rf_Analysis,X_Analysis_test,Y_Analysis_test,10)"
   ]
  },
  {
   "cell_type": "code",
   "execution_count": 38,
   "metadata": {},
   "outputs": [
    {
     "name": "stdout",
     "output_type": "stream",
     "text": [
      "Accuracy: 0.75 (+/- 0.12)\n",
      "Recall: 0.75 (+/- 0.12)\n",
      "Precision: 0.75 (+/- 0.07)\n",
      "F1-Score: 0.74 (+/- 0.11)\n"
     ]
    }
   ],
   "source": [
    "Backdoor_accuracy=accuracy_report(rf_Backdoor,X_Backdoor_test,Y_Backdoor_test,10)"
   ]
  },
  {
   "cell_type": "code",
   "execution_count": null,
   "metadata": {},
   "outputs": [],
   "source": [
    "# Shellcode_accuracy=accuracy_report(rf_Shellcode,X_Shellcode_test,Y_Shellcode_test,10)"
   ]
  },
  {
   "cell_type": "code",
   "execution_count": 39,
   "metadata": {},
   "outputs": [
    {
     "name": "stdout",
     "output_type": "stream",
     "text": [
      "Accuracy: 0.74 (+/- 0.12)\n",
      "Recall: 0.74 (+/- 0.12)\n",
      "Precision: 0.74 (+/- 0.07)\n",
      "F1-Score: 0.73 (+/- 0.10)\n"
     ]
    }
   ],
   "source": [
    "Worms_accuracy=accuracy_report(rf_Worms,X_Worms_test,Y_Worms_test,10)"
   ]
  },
  {
   "cell_type": "code",
   "execution_count": 42,
   "metadata": {},
   "outputs": [
    {
     "name": "stdout",
     "output_type": "stream",
     "text": [
      "Accuracy: 0.76 (+/- 0.13)\n",
      "Recall: 0.76 (+/- 0.13)\n",
      "Precision: 0.76 (+/- 0.07)\n",
      "F1-Score: 0.75 (+/- 0.11)\n"
     ]
    }
   ],
   "source": [
    "Reconnaissance_accuracy=accuracy_report(rf_Reconnaissance,X_Reconnaissance_test,Y_Reconnaissance_test,10)"
   ]
  },
  {
   "cell_type": "code",
   "execution_count": 38,
   "metadata": {},
   "outputs": [
    {
     "name": "stdout",
     "output_type": "stream",
     "text": [
      "Accuracy: 1.00 (+/- 0.00)\n",
      "Recall: 1.00 (+/- 0.00)\n",
      "Precision: 1.00 (+/- 0.00)\n",
      "F1-Score: 1.00 (+/- 0.00)\n"
     ]
    }
   ],
   "source": [
    "# Normal_accuracy=accuracy_report(rf_normal,X_normal_test,Y_normal_test,10)"
   ]
  },
  {
   "cell_type": "code",
   "execution_count": 39,
   "metadata": {},
   "outputs": [
    {
     "name": "stdout",
     "output_type": "stream",
     "text": [
      "Accuracy: 0.72 (+/- 0.03)\n",
      "Recall: 0.72 (+/- 0.03)\n",
      "Precision: 0.71 (+/- 0.03)\n",
      "F1-Score: 0.71 (+/- 0.02)\n"
     ]
    }
   ],
   "source": [
    "# Attack_accuracy=accuracy_report(rf_attack,X_attack_test,Y_attack_test,10)"
   ]
  },
  {
   "cell_type": "code",
   "execution_count": 40,
   "metadata": {},
   "outputs": [
    {
     "name": "stdout",
     "output_type": "stream",
     "text": [
      "Accuracy: 0.74 (+/- 0.12)\n",
      "Recall: 0.74 (+/- 0.12)\n",
      "Precision: 0.75 (+/- 0.07)\n",
      "F1-Score: 0.74 (+/- 0.11)\n"
     ]
    }
   ],
   "source": [
    "Shellcode_accuracy=accuracy_report(rf_Shellcode,X_Shellcode_test,Y_Shellcode_test,10)"
   ]
  },
  {
   "cell_type": "code",
   "execution_count": 41,
   "metadata": {},
   "outputs": [
    {
     "name": "stdout",
     "output_type": "stream",
     "text": [
      "Accuracy: 0.67 (+/- 0.16)\n",
      "Recall: 0.67 (+/- 0.16)\n",
      "Precision: 0.68 (+/- 0.08)\n",
      "F1-Score: 0.66 (+/- 0.14)\n"
     ]
    }
   ],
   "source": [
    "Generic_accuracy=accuracy_report(rf_Generic,X_Generic_test,Y_Generic_test,10)"
   ]
  },
  {
   "cell_type": "code",
   "execution_count": null,
   "metadata": {},
   "outputs": [],
   "source": []
  }
 ],
 "metadata": {
  "celltoolbar": "Tags",
  "kernelspec": {
   "display_name": "Python 3",
   "language": "python",
   "name": "python3"
  },
  "language_info": {
   "codemirror_mode": {
    "name": "ipython",
    "version": 3
   },
   "file_extension": ".py",
   "mimetype": "text/x-python",
   "name": "python",
   "nbconvert_exporter": "python",
   "pygments_lexer": "ipython3",
   "version": "3.7.3"
  }
 },
 "nbformat": 4,
 "nbformat_minor": 1
}
